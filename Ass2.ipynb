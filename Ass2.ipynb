{
  "nbformat": 4,
  "nbformat_minor": 0,
  "metadata": {
    "colab": {
      "provenance": [],
      "authorship_tag": "ABX9TyMWDTDYYhTk5PRbQzzF+Qct",
      "include_colab_link": true
    },
    "kernelspec": {
      "name": "python3",
      "display_name": "Python 3"
    },
    "language_info": {
      "name": "python"
    }
  },
  "cells": [
    {
      "cell_type": "markdown",
      "metadata": {
        "id": "view-in-github",
        "colab_type": "text"
      },
      "source": [
        "<a href=\"https://colab.research.google.com/github/Ishita-01/Cognitive-Lab/blob/main/Ass2.ipynb\" target=\"_parent\"><img src=\"https://colab.research.google.com/assets/colab-badge.svg\" alt=\"Open In Colab\"/></a>"
      ]
    },
    {
      "cell_type": "code",
      "execution_count": 1,
      "metadata": {
        "colab": {
          "base_uri": "https://localhost:8080/"
        },
        "id": "79M876KtbvYt",
        "outputId": "a023c4e7-de3d-45e4-cc22-e243c4395b0b"
      },
      "outputs": [
        {
          "output_type": "stream",
          "name": "stdout",
          "text": [
            "[10, 20, 30, 40, 50, 60, 70, 80, 200, 300]\n",
            "[20, 40, 50, 60, 70, 80, 200, 300]\n",
            "[20, 40, 50, 60, 70, 80, 200, 300]\n",
            "[300, 200, 80, 70, 60, 50, 40, 20]\n"
          ]
        }
      ],
      "source": [
        "#ques 1\n",
        "L=[10,20,30,40,50,60,70,80]\n",
        "L.append(200)\n",
        "L.append(300)\n",
        "print(L)\n",
        "L.remove(10)\n",
        "L.remove(30)\n",
        "print(L)\n",
        "L.sort()\n",
        "print(L)\n",
        "L.sort(reverse=True)\n",
        "print(L)"
      ]
    },
    {
      "cell_type": "code",
      "source": [
        "#ques 2\n",
        "T=(45, 89.5, 76, 45.4, 89, 92, 58, 45)\n",
        "\n",
        "print(max(T))\n",
        "print(T.index(max(T)))\n",
        "print(min(T))\n",
        "print(T.count(min(T)))\n",
        "\n",
        "t=T[::-1]\n",
        "print(t)\n",
        "\n",
        "def searching(T):\n",
        "    value = int(input(\"Enter any number: \"))\n",
        "    if value in T:\n",
        "        return t.index(value)\n",
        "    else:\n",
        "        return 0\n",
        "ans=searching(T)\n",
        "if ans:\n",
        "    print(\"Input is present\")\n",
        "    print(ans)\n",
        "else:\n",
        "    print(\"Not found\")"
      ],
      "metadata": {
        "colab": {
          "base_uri": "https://localhost:8080/"
        },
        "id": "tFvEHj8qcUze",
        "outputId": "47287fc1-701f-4504-bc69-2582a7fcf988"
      },
      "execution_count": 7,
      "outputs": [
        {
          "output_type": "stream",
          "name": "stdout",
          "text": [
            "92\n",
            "5\n",
            "45\n",
            "2\n",
            "(45, 58, 92, 89, 45.4, 76, 89.5, 45)\n",
            "Enter any number: 76\n",
            "Input is present\n",
            "5\n"
          ]
        }
      ]
    },
    {
      "cell_type": "code",
      "source": [
        "#ques 3\n",
        "import random, math\n",
        "def isprime(n):\n",
        "  for i in range(2,int(math.sqrt(n))):\n",
        "    if(n%i == 0):\n",
        "      return False\n",
        "  return True\n",
        "def main():\n",
        "  l = [random.randint(100, 900) for i in range(100)]\n",
        "  odd = []\n",
        "  even = []\n",
        "  prime = []\n",
        "  for i in range(len(l)):\n",
        "    if (i%2 !=0):\n",
        "      odd.append(l[i])\n",
        "    else:\n",
        "      even.append(l[i])\n",
        "    if(isprime(l[i])):\n",
        "      prime.append(l[i])\n",
        "  print(\"Odd: \",odd)\n",
        "  print(\"Even: \",even)\n",
        "  print(\"Prime: \",prime)\n",
        "\n",
        "main()"
      ],
      "metadata": {
        "colab": {
          "base_uri": "https://localhost:8080/"
        },
        "id": "e_Cg62mKes_X",
        "outputId": "644015ce-b119-40df-fb2b-fa10b34f6fb6"
      },
      "execution_count": 10,
      "outputs": [
        {
          "output_type": "stream",
          "name": "stdout",
          "text": [
            "Odd:  [165, 306, 160, 299, 401, 552, 237, 443, 479, 522, 144, 239, 169, 681, 550, 144, 421, 593, 112, 295, 530, 678, 549, 708, 564, 528, 278, 757, 170, 346, 117, 760, 197, 576, 431, 680, 764, 254, 840, 234, 524, 145, 741, 170, 510, 284, 890, 101, 474, 880]\n",
            "Even:  [794, 554, 448, 738, 748, 343, 670, 599, 446, 781, 797, 680, 808, 749, 518, 682, 818, 447, 364, 691, 463, 826, 604, 380, 173, 105, 606, 361, 328, 715, 757, 756, 542, 187, 572, 284, 288, 219, 204, 845, 149, 411, 480, 201, 143, 289, 148, 209, 741, 193]\n",
            "Prime:  [401, 599, 443, 479, 797, 239, 169, 421, 593, 691, 463, 173, 361, 757, 757, 197, 431, 149, 143, 289, 101, 193]\n"
          ]
        }
      ]
    },
    {
      "cell_type": "code",
      "source": [
        "#ques 4\n",
        "A={34,56,78,90}\n",
        "B={74,45,90,23}\n",
        "print(\"Unique Scores: \",A|B)\n",
        "print(\"Intersection:\",A&B)\n",
        "print(\"Symmetric Diff: \",A-B)\n",
        "print(A.issubset(B))\n",
        "def remove_from_A(A):\n",
        "  a = int(input(\"Enter the number to remove from A\"))\n",
        "  if(a in A):\n",
        "    A.remove(a)\n",
        "    print(A)\n",
        "  else:\n",
        "    print(\"Number not found\")\n",
        "remove_from_A(A)"
      ],
      "metadata": {
        "colab": {
          "base_uri": "https://localhost:8080/"
        },
        "id": "sp8QYQG2fIrN",
        "outputId": "bcb20698-913b-41b0-cb87-b8e59a7c464b"
      },
      "execution_count": 12,
      "outputs": [
        {
          "output_type": "stream",
          "name": "stdout",
          "text": [
            "Unique Scores:  {34, 74, 45, 78, 23, 56, 90}\n",
            "Intersection: {90}\n",
            "Symmetric Diff:  {56, 34, 78}\n",
            "False\n",
            "Enter the number to remove from A78\n",
            "{56, 34, 90}\n"
          ]
        }
      ]
    },
    {
      "cell_type": "code",
      "source": [
        "#ques 5\n",
        "MyDict={\n",
        "    \"name\":\"Ishita\",\n",
        "    \"age\":20,\n",
        "    \"city\":\"Bathinda\"\n",
        "}\n",
        "MyDict[\"location\"]=MyDict.pop('city')\n",
        "print(MyDict)\n"
      ],
      "metadata": {
        "colab": {
          "base_uri": "https://localhost:8080/"
        },
        "id": "Gptlwr4Ff7qy",
        "outputId": "b76c5f00-94cf-4090-d62a-21c8960b2e51"
      },
      "execution_count": 11,
      "outputs": [
        {
          "output_type": "stream",
          "name": "stdout",
          "text": [
            "{'name': 'Ishita', 'age': 20, 'location': 'Bathinda'}\n"
          ]
        }
      ]
    }
  ]
}