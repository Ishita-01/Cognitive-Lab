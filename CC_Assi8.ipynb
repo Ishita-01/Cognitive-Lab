{
  "nbformat": 4,
  "nbformat_minor": 0,
  "metadata": {
    "colab": {
      "provenance": [],
      "authorship_tag": "ABX9TyORu2pZwlPifRBVGebeb6dh",
      "include_colab_link": true
    },
    "kernelspec": {
      "name": "python3",
      "display_name": "Python 3"
    },
    "language_info": {
      "name": "python"
    }
  },
  "cells": [
    {
      "cell_type": "markdown",
      "metadata": {
        "id": "view-in-github",
        "colab_type": "text"
      },
      "source": [
        "<a href=\"https://colab.research.google.com/github/Ishita-01/Cognitive-Lab/blob/main/CC_Assi8.ipynb\" target=\"_parent\"><img src=\"https://colab.research.google.com/assets/colab-badge.svg\" alt=\"Open In Colab\"/></a>"
      ]
    },
    {
      "cell_type": "code",
      "execution_count": 1,
      "metadata": {
        "colab": {
          "base_uri": "https://localhost:8080/"
        },
        "id": "zfmeW8glBIpR",
        "outputId": "83478c50-9ba8-4d2c-99c9-fe1b02bf3c0f"
      },
      "outputs": [
        {
          "output_type": "stream",
          "name": "stdout",
          "text": [
            "Accuracy: 1.0\n"
          ]
        }
      ],
      "source": [
        "\n",
        "from sklearn.linear_model import LogisticRegression\n",
        "from sklearn.model_selection import train_test_split\n",
        "from sklearn.datasets import load_iris\n",
        "from sklearn.metrics import accuracy_score\n",
        "\n",
        "iris = load_iris()\n",
        "a = iris.data\n",
        "b = iris.target\n",
        "\n",
        "\n",
        "a_train, a_test, b_train, b_test = train_test_split(a, b, test_size=0.2, random_state=42)\n",
        "\n",
        "model = LogisticRegression(max_iter=1000)  # Increase max_iter if needed\n",
        "\n",
        "model.fit(a_train, b_train)\n",
        "\n",
        "\n",
        "b_pred = model.predict(a_test)\n",
        "\n",
        "\n",
        "accuracy = accuracy_score(b_test, b_pred)\n",
        "print(\"Accuracy:\", accuracy)"
      ]
    }
  ]
}