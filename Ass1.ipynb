{
  "nbformat": 4,
  "nbformat_minor": 0,
  "metadata": {
    "colab": {
      "provenance": [],
      "authorship_tag": "ABX9TyPlgsYuolmHJLedmNH23nW+",
      "include_colab_link": true
    },
    "kernelspec": {
      "name": "python3",
      "display_name": "Python 3"
    },
    "language_info": {
      "name": "python"
    }
  },
  "cells": [
    {
      "cell_type": "markdown",
      "metadata": {
        "id": "view-in-github",
        "colab_type": "text"
      },
      "source": [
        "<a href=\"https://colab.research.google.com/github/Ishita-01/Cognitive-Lab/blob/main/Ass1.ipynb\" target=\"_parent\"><img src=\"https://colab.research.google.com/assets/colab-badge.svg\" alt=\"Open In Colab\"/></a>"
      ]
    },
    {
      "cell_type": "code",
      "execution_count": null,
      "metadata": {
        "colab": {
          "base_uri": "https://localhost:8080/"
        },
        "id": "WkQigQHeIHND",
        "outputId": "098dd5b7-c218-4980-e994-09be268f86eb"
      },
      "outputs": [
        {
          "output_type": "stream",
          "name": "stdout",
          "text": [
            "Engineering??\n"
          ]
        }
      ],
      "source": [
        "#ques 1\n",
        "print(\"Engineering??\")\n"
      ]
    },
    {
      "cell_type": "code",
      "source": [
        "\n",
        "# 2.1 Write a program to add two numbers and print the result\n",
        "a=5\n",
        "b=6\n",
        "print(a+b)"
      ],
      "metadata": {
        "colab": {
          "base_uri": "https://localhost:8080/"
        },
        "id": "AAOrhyUoKejx",
        "outputId": "634753db-97a0-4cb6-91e9-54b3565b9564"
      },
      "execution_count": null,
      "outputs": [
        {
          "output_type": "stream",
          "name": "stdout",
          "text": [
            "11\n"
          ]
        }
      ]
    },
    {
      "cell_type": "code",
      "source": [
        "#Write a program to concatenate two strings and print the result.\n",
        "a=\"Engineering\"\n",
        "b=\"Really?\"\n",
        "print(a+\" \"+b)"
      ],
      "metadata": {
        "colab": {
          "base_uri": "https://localhost:8080/"
        },
        "id": "37vVlHg9Kn_x",
        "outputId": "662ccba1-5dc8-44be-d62d-8b98651376c9"
      },
      "execution_count": null,
      "outputs": [
        {
          "output_type": "stream",
          "name": "stdout",
          "text": [
            "Engineering Really?\n"
          ]
        }
      ]
    },
    {
      "cell_type": "code",
      "source": [
        "# Write a program to concatenate a string and a number and print the result.\n",
        "a=\"Turning\"\n",
        "b=20\n",
        "print(a+\" \"+str(b))"
      ],
      "metadata": {
        "colab": {
          "base_uri": "https://localhost:8080/"
        },
        "id": "zK7m7ULYKun2",
        "outputId": "ad338d42-f016-4fa1-da9a-4374043836e7"
      },
      "execution_count": null,
      "outputs": [
        {
          "output_type": "stream",
          "name": "stdout",
          "text": [
            "Turning 20\n"
          ]
        }
      ]
    },
    {
      "cell_type": "code",
      "source": [
        "# Write a Python program to check if a number is positive, negative, or zero using an if-else statement\n",
        "a=int(input(\"Enter a Number: \"))\n",
        "if a>0:\n",
        "  print(\"Positive\")\n",
        "elif a<0:\n",
        "  print(\"Negative\")\n",
        "else:\n",
        "  print(\"Zero\")"
      ],
      "metadata": {
        "colab": {
          "base_uri": "https://localhost:8080/"
        },
        "id": "9jhHYGvLKyD9",
        "outputId": "7f8e2a73-c0cf-451e-a3b9-ccef2a45a884"
      },
      "execution_count": null,
      "outputs": [
        {
          "output_type": "stream",
          "name": "stdout",
          "text": [
            "Enter a Number: 5\n",
            "Positive\n"
          ]
        }
      ]
    },
    {
      "cell_type": "code",
      "source": [
        "# 3.2 Write a program to check if a given number is odd or even.\n",
        "a=int(input(\"Enter a Number: \"))\n",
        "if a%2 == 0 : print(\"Even number\")\n",
        "else : print(\"Odd Number\")"
      ],
      "metadata": {
        "colab": {
          "base_uri": "https://localhost:8080/"
        },
        "id": "_U377WE9LE-e",
        "outputId": "e06abb7c-3f3e-4841-97ed-897fa4171db1"
      },
      "execution_count": null,
      "outputs": [
        {
          "output_type": "stream",
          "name": "stdout",
          "text": [
            "Enter a Number: 5\n",
            "Odd Number\n"
          ]
        }
      ]
    },
    {
      "cell_type": "code",
      "source": [
        "# 4.1 Write a program to print numbers from 1 to 10 using a for loop.\n",
        "for i in range(1,11):\n",
        "  print(i,end=\" \")\n"
      ],
      "metadata": {
        "colab": {
          "base_uri": "https://localhost:8080/"
        },
        "id": "ilBs-UxcLP5T",
        "outputId": "330466da-7ed9-42b1-e494-3b46e700f8eb"
      },
      "execution_count": null,
      "outputs": [
        {
          "output_type": "stream",
          "name": "stdout",
          "text": [
            "1 2 3 4 5 6 7 8 9 10 "
          ]
        }
      ]
    },
    {
      "cell_type": "code",
      "source": [
        "# 4.2 Write a program to print numbers from 1 to 10 using a while loop.\n",
        "i=1\n",
        "while i<11 :\n",
        "  print(i,end=\" \")\n",
        "  i+=1"
      ],
      "metadata": {
        "colab": {
          "base_uri": "https://localhost:8080/"
        },
        "id": "oRx8ZP1cLRsB",
        "outputId": "776b51f2-c702-4698-eca1-7c0395e54995"
      },
      "execution_count": null,
      "outputs": [
        {
          "output_type": "stream",
          "name": "stdout",
          "text": [
            "1 2 3 4 5 6 7 8 9 10 "
          ]
        }
      ]
    },
    {
      "cell_type": "code",
      "source": [
        "#  4.3 Write a program to calculate the sum of numbers from 1 to 100 using a loop.\n",
        "sum=0\n",
        "for i in range(1,101):\n",
        "  sum+=i\n",
        "print(sum)"
      ],
      "metadata": {
        "colab": {
          "base_uri": "https://localhost:8080/"
        },
        "id": "_PG_Ut3JLZks",
        "outputId": "869c9a1f-8f3a-4509-8b12-3f4c3ecd0343"
      },
      "execution_count": null,
      "outputs": [
        {
          "output_type": "stream",
          "name": "stdout",
          "text": [
            "5050\n"
          ]
        }
      ]
    },
    {
      "cell_type": "code",
      "source": [
        "# 5.1 Create a list of 5 numbers. Write a program to find the largest and smallest\n",
        "#numbers in the list.\n",
        "l=[]\n",
        "for i in range(5):\n",
        "  x=int(input(\"Enter a number:\" ))\n",
        "  l.append(x)\n",
        "print(\"Max is : \",max(l))\n",
        "print(\"Min is: \",min(l))\n"
      ],
      "metadata": {
        "colab": {
          "base_uri": "https://localhost:8080/"
        },
        "id": "AewPJVLzLky_",
        "outputId": "635227e1-e913-42b7-8eb7-d5262857732d"
      },
      "execution_count": null,
      "outputs": [
        {
          "output_type": "stream",
          "name": "stdout",
          "text": [
            "Enter a number:1\n",
            "Enter a number:2\n",
            "Enter a number:3\n",
            "Enter a number:4\n",
            "Enter a number:5\n",
            "Max is :  5\n",
            "Min is:  1\n"
          ]
        }
      ]
    },
    {
      "cell_type": "code",
      "source": [
        "#5.2 Create a dictionary with at least 3 key-value pairs. Write a program to retrieve\n",
        "#the value of a given key\n",
        "x = input(\"Enter your name: \")\n",
        "y = input(\"Enter your age: \")\n",
        "z = input(\"Enter your city:\")\n",
        "myDict={\"name\": x, \"age\": y, \"city\": z}\n",
        "\n",
        "def get_value(key):\n",
        "  if key in myDict:\n",
        "    return myDict[key]\n",
        "  else:\n",
        "    return None\n",
        "\n",
        "# Example\n",
        "key_to_find = \"name\"\n",
        "value = get_value(key_to_find)\n",
        "\n",
        "if value is not None:\n",
        "  print(f\"The value for '{key_to_find}' is: {value}\")\n",
        "else:\n",
        "  print(f\"Key '{key_to_find}' not found.\")"
      ],
      "metadata": {
        "colab": {
          "base_uri": "https://localhost:8080/"
        },
        "id": "GX2-d9MNMVRi",
        "outputId": "0b71e95b-3da2-4443-c767-ced54b154fb1"
      },
      "execution_count": null,
      "outputs": [
        {
          "output_type": "stream",
          "name": "stdout",
          "text": [
            "Enter your name: Ishita\n",
            "Enter your age: 20\n",
            "Enter your city:Bathinda\n",
            "The value for 'name' is: Ishita\n"
          ]
        }
      ]
    },
    {
      "cell_type": "code",
      "source": [
        "# 5.3 Write a program to sort a list of numbers in ascending and descending order.\n",
        "l=[22,12,45,16]\n",
        "l.sort()\n",
        "print(l)\n",
        "l.reverse()\n",
        "print(l)"
      ],
      "metadata": {
        "colab": {
          "base_uri": "https://localhost:8080/"
        },
        "id": "WMNDsOiWNoNZ",
        "outputId": "a8af4831-5a4a-4e75-d301-f19409a46407"
      },
      "execution_count": null,
      "outputs": [
        {
          "output_type": "stream",
          "name": "stdout",
          "text": [
            "[12, 16, 22, 45]\n",
            "[45, 22, 16, 12]\n"
          ]
        }
      ]
    },
    {
      "cell_type": "code",
      "source": [
        "#5.4 Write a program to merge two dictionaries into one\n",
        "x = input(\"Enter your name: \")\n",
        "y = input(\"Enter your age: \")\n",
        "z = input(\"Enter your gender:\")\n",
        "myDict = {\"name\": x, \"age\": y, \"gender\": z}\n",
        "\n",
        "a = input(\"Enter your Movie : \")\n",
        "b = input(\"Enter your Song: \")\n",
        "c = input(\"Enter your Series:\")\n",
        "myDict2 = {\"Movie\": a, \"Song\": b, \"Series\": c}\n",
        "\n",
        "d = myDict.copy()\n",
        "d.update(myDict2)\n",
        "print(d)"
      ],
      "metadata": {
        "colab": {
          "base_uri": "https://localhost:8080/"
        },
        "id": "cNBuNrtlOI11",
        "outputId": "51ba52f6-6653-4e7b-a1d0-40782550265c"
      },
      "execution_count": null,
      "outputs": [
        {
          "output_type": "stream",
          "name": "stdout",
          "text": [
            "Enter your name: Ishita\n",
            "Enter your age: 20\n",
            "Enter your gender:Female\n",
            "Enter your Movie : 3 idiots\n",
            "Enter your Song: Raanjhan\n",
            "Enter your Series:Friends\n",
            "{'name': 'Ishita', 'age': '20', 'gender': 'Female', 'Movie': '3 idiots', 'Song': 'Raanjhan', 'Series': 'Friends'}\n"
          ]
        }
      ]
    },
    {
      "cell_type": "code",
      "source": [
        "#6.1 Write a program to count the number of vowels in a given string.\n",
        "def countVowel(a):\n",
        "  count =0\n",
        "  v = \"aeiou\"\n",
        "  for i in a:\n",
        "    if i in v:\n",
        "      count = count+1\n",
        "  return count\n",
        "#q 6.1\n",
        "a = input(\"Enter string: \")\n",
        "cnt = countVowel(a)\n",
        "print(\"number of vowels are:\", cnt)\n",
        "\n",
        "#6.2 Write a program to reverse a string and print it\n",
        "txt = a[::-1]\n",
        "print(txt)\n",
        "\n",
        "#q 6.3\n",
        "def ispalindrome(a):\n",
        "  if a == a[::-1]:\n",
        "    return True\n",
        "  else:\n",
        "    return False\n",
        "\n",
        "b = \"MOM\"\n",
        "ans = ispalindrome(b)\n",
        "print(ans)"
      ],
      "metadata": {
        "colab": {
          "base_uri": "https://localhost:8080/"
        },
        "id": "cOrTA98iPxb8",
        "outputId": "961a40ce-35cc-4bb2-f08c-4692b12aecf9"
      },
      "execution_count": null,
      "outputs": [
        {
          "output_type": "stream",
          "name": "stdout",
          "text": [
            "Enter string: qwerty\n",
            "number of vowels are: 1\n",
            "ytrewq\n",
            "True\n"
          ]
        }
      ]
    },
    {
      "cell_type": "code",
      "source": [
        "#Write a program to create a text file, write some text into it, and then read and\n",
        "#print the content.\n",
        "def createfile():\n",
        "  f = open(\"demofile.txt\", \"w\")\n",
        "  f.write(\"This is a demo file\")\n",
        "  f.close()\n",
        "\n",
        "createfile()\n",
        "\n",
        "f = open(\"demofile.txt\", \"r\")\n",
        "print(f.read())\n",
        "\n"
      ],
      "metadata": {
        "colab": {
          "base_uri": "https://localhost:8080/"
        },
        "id": "kzTSN-YUQZdB",
        "outputId": "506894b5-332a-4eea-bf63-6c588e461b2f"
      },
      "execution_count": null,
      "outputs": [
        {
          "output_type": "stream",
          "name": "stdout",
          "text": [
            "This is a demo file\n"
          ]
        }
      ]
    },
    {
      "cell_type": "code",
      "source": [
        "#7.2 Write a program to append text to an existing file and print the updated\n",
        "#content.\n",
        "f = open(\"demofile.txt\", \"a\")\n",
        "f.write(\"\\nText appended \")\n",
        "f.close()\n",
        "\n",
        "f = open(\"demofile.txt\", \"r\")\n",
        "print(f.read())"
      ],
      "metadata": {
        "colab": {
          "base_uri": "https://localhost:8080/"
        },
        "id": "UH7pUsf8RsHN",
        "outputId": "4e215c52-007d-4801-9b1d-031d11ad524d"
      },
      "execution_count": null,
      "outputs": [
        {
          "output_type": "stream",
          "name": "stdout",
          "text": [
            "This is a demo fileText appended \n",
            "Text appended \n",
            "Text appended \n",
            "Text appended \n"
          ]
        }
      ]
    },
    {
      "cell_type": "code",
      "source": [
        "#7.3 Write a program to count the number of lines in a text file.\n",
        "f = open(\"demofile.txt\", \"r\")\n",
        "len = len(f.readlines())\n",
        "print(\"The number of lines are:\", len)"
      ],
      "metadata": {
        "colab": {
          "base_uri": "https://localhost:8080/"
        },
        "id": "Ua3Zh3tIR_QF",
        "outputId": "d0ad8267-629b-41d7-f9af-7e6c05f247d1"
      },
      "execution_count": null,
      "outputs": [
        {
          "output_type": "stream",
          "name": "stdout",
          "text": [
            "The number of lines are: 4\n"
          ]
        }
      ]
    },
    {
      "cell_type": "code",
      "source": [
        "#8 Write a program to handle division by zero using a\n",
        "#try-except block.\n",
        "\n",
        "def divbyzero():\n",
        "  try:\n",
        "    n = int(input(\"Enter an integer\"))\n",
        "    res = 100 / n\n",
        "\n",
        "  except ZeroDivisionError:\n",
        "      print(\"You can't divide by zero!\")\n",
        "\n",
        "  except ValueError:\n",
        "      print(\"Enter a valid number!\")\n",
        "\n",
        "  else:\n",
        "      print(\"Result is\", res)\n",
        "\n",
        "  finally:\n",
        "      print(\"Execution complete.\")\n",
        "\n",
        "divbyzero()"
      ],
      "metadata": {
        "colab": {
          "base_uri": "https://localhost:8080/"
        },
        "id": "qkKiIa2KSQk8",
        "outputId": "79e0b1e7-87bf-4877-f841-ee98b27aab04"
      },
      "execution_count": null,
      "outputs": [
        {
          "output_type": "stream",
          "name": "stdout",
          "text": [
            "Enter an integerttty\n",
            "Enter a valid number!\n",
            "Execution complete.\n"
          ]
        }
      ]
    },
    {
      "cell_type": "code",
      "source": [
        "\n",
        "#ques 9\n",
        "import random\n",
        "import math\n",
        "def isprime(a):\n",
        "  for i in range(2,int(math.sqrt(a))):\n",
        "    if a%i == 0:\n",
        "      return False\n",
        "  return True\n",
        "# q 9.1\n",
        "a = []\n",
        "for i in range(0,5):\n",
        "  a.append(random.randint(1,100))\n",
        "\n",
        "print(a)\n",
        "# q 9.2\n",
        "ans = isprime(2)\n",
        "print(ans)"
      ],
      "metadata": {
        "colab": {
          "base_uri": "https://localhost:8080/"
        },
        "id": "nvHjHNHBShgu",
        "outputId": "f42ad69f-c2a4-4df1-fd3b-2b0d802acbe9"
      },
      "execution_count": null,
      "outputs": [
        {
          "output_type": "stream",
          "name": "stdout",
          "text": [
            "[38, 15, 78, 59, 58]\n",
            "True\n"
          ]
        }
      ]
    },
    {
      "cell_type": "code",
      "source": [
        "#  9.3 Write a program to simulate rolling a six-sided die.\n",
        "def die():\n",
        "  return random.randint(1,6)\n",
        "print(die())"
      ],
      "metadata": {
        "colab": {
          "base_uri": "https://localhost:8080/"
        },
        "id": "HBu786FhUxNc",
        "outputId": "c24b278b-6ed9-4b43-c633-3c63a0ef738a"
      },
      "execution_count": null,
      "outputs": [
        {
          "output_type": "stream",
          "name": "stdout",
          "text": [
            "3\n"
          ]
        }
      ]
    },
    {
      "cell_type": "code",
      "source": [
        "#9.4\n",
        "def shufflen(x):\n",
        "  random.shuffle(x)\n",
        "  return x\n",
        "\n",
        "x= []\n",
        "for i in range(0,5):\n",
        "  x.append(random.randint(1,100))\n",
        "\n",
        "print(x)\n",
        "print(shufflen(x))\n",
        "# q 9.5\n",
        "print(random.choice(x))"
      ],
      "metadata": {
        "colab": {
          "base_uri": "https://localhost:8080/"
        },
        "id": "gguGi8pkU8MR",
        "outputId": "d8f833c7-963f-49f4-cbb5-a40395092c4d"
      },
      "execution_count": null,
      "outputs": [
        {
          "output_type": "stream",
          "name": "stdout",
          "text": [
            "[61, 3, 24, 89, 22]\n",
            "[61, 3, 22, 24, 89]\n",
            "22\n"
          ]
        }
      ]
    },
    {
      "cell_type": "code",
      "source": [
        "#9.6 Write a program to generate a random password of given length.\n",
        "a = int(input(\"Enter the length of password: \"))\n",
        "for i in range(0,a):\n",
        "  print(random.randint(0,9), end=\"\")"
      ],
      "metadata": {
        "colab": {
          "base_uri": "https://localhost:8080/"
        },
        "id": "8ts0OVrxVhRu",
        "outputId": "3c2b1c0a-4acf-4f6d-aff5-59be4e949c99"
      },
      "execution_count": null,
      "outputs": [
        {
          "output_type": "stream",
          "name": "stdout",
          "text": [
            "Enter the length of password: 6\n",
            "671002"
          ]
        }
      ]
    },
    {
      "cell_type": "code",
      "source": [
        "# 9.7 Write a program to pick a random card from a standard deck of 52 cards.\n",
        "suits = [\"Hearts\", \"Diamonds\", \"Clubs\", \"Spades\"]\n",
        "ranks = [\"2\", \"3\", \"4\", \"5\", \"6\", \"7\", \"8\", \"9\", \"10\", \"Jack\", \"Queen\", \"King\", \"Ace\"]\n",
        "\n",
        "def pick_random_card():\n",
        "  suit = random.choice(suits)\n",
        "  rank = random.choice(ranks)\n",
        "  return f\"{rank} of {suit}\"\n",
        "random_card = pick_random_card()\n",
        "random_card"
      ],
      "metadata": {
        "colab": {
          "base_uri": "https://localhost:8080/",
          "height": 36
        },
        "id": "5bSOXh-mVqcG",
        "outputId": "f4f936f0-4e33-4e86-c995-5ed0ed19beb1"
      },
      "execution_count": null,
      "outputs": [
        {
          "output_type": "execute_result",
          "data": {
            "text/plain": [
              "'Ace of Spades'"
            ],
            "application/vnd.google.colaboratory.intrinsic+json": {
              "type": "string"
            }
          },
          "metadata": {},
          "execution_count": 39
        }
      ]
    },
    {
      "cell_type": "code",
      "source": [
        "#10.1 Write a program to accept two numbers as command-line arguments, add\n",
        "#them, and print the result\n",
        "\n",
        "import sys\n",
        "\n",
        "\n",
        "try:\n",
        "    n1 = float(sys.argv[1])\n",
        "    n2 = float(sys.argv[2])\n",
        "    print(f\"The sum of {n1} and {n2} is {n1 + n2}\")\n",
        "except ValueError:\n",
        "    print(\"Please provide valid numbers as command-line arguments.\")\n",
        "except IndexError:\n",
        "    print(\"Usage: python script.py <number1> <number2>\")\n"
      ],
      "metadata": {
        "colab": {
          "base_uri": "https://localhost:8080/"
        },
        "id": "igMbh5IqV9np",
        "outputId": "61c804d3-afb4-47e2-f33c-b2bc04c71501"
      },
      "execution_count": null,
      "outputs": [
        {
          "output_type": "stream",
          "name": "stdout",
          "text": [
            "Usage: python script.py <number1> <number2>\n"
          ]
        }
      ]
    },
    {
      "cell_type": "code",
      "source": [
        "#11.1\n",
        "import math\n",
        "n=int(input(\"enter number\"))\n",
        "print(math.sqrt(n))"
      ],
      "metadata": {
        "colab": {
          "base_uri": "https://localhost:8080/"
        },
        "id": "LTAyu9EfaKRI",
        "outputId": "9d704a78-377e-4535-a76b-204e77a19663"
      },
      "execution_count": null,
      "outputs": [
        {
          "output_type": "stream",
          "name": "stdout",
          "text": [
            "enter number4\n",
            "2.0\n"
          ]
        }
      ]
    },
    {
      "cell_type": "code",
      "source": [
        "#11.2\n",
        "import datetime\n",
        "\n",
        "x = datetime.datetime.now()\n",
        "print(x)\n"
      ],
      "metadata": {
        "colab": {
          "base_uri": "https://localhost:8080/"
        },
        "id": "yHw_aBKnaaK1",
        "outputId": "8485dd5f-c4e9-4707-82f5-c9c9b6bac27a"
      },
      "execution_count": null,
      "outputs": [
        {
          "output_type": "stream",
          "name": "stdout",
          "text": [
            "2025-01-19 07:14:36.415456\n"
          ]
        }
      ]
    },
    {
      "cell_type": "code",
      "source": [
        "#11.3\n",
        "import os\n",
        "print(os.listdir())"
      ],
      "metadata": {
        "colab": {
          "base_uri": "https://localhost:8080/"
        },
        "id": "Pvnhaytbaguj",
        "outputId": "f301cd1b-11e9-4251-d247-c4d0e04e1723"
      },
      "execution_count": null,
      "outputs": [
        {
          "output_type": "stream",
          "name": "stdout",
          "text": [
            "['.config', 'demofile.txt', 'sample_data']\n"
          ]
        }
      ]
    }
  ]
}