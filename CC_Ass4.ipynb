{
  "nbformat": 4,
  "nbformat_minor": 0,
  "metadata": {
    "colab": {
      "provenance": [],
      "authorship_tag": "ABX9TyMPrcH+gByMJkfjPvmmSMYP",
      "include_colab_link": true
    },
    "kernelspec": {
      "name": "python3",
      "display_name": "Python 3"
    },
    "language_info": {
      "name": "python"
    }
  },
  "cells": [
    {
      "cell_type": "markdown",
      "metadata": {
        "id": "view-in-github",
        "colab_type": "text"
      },
      "source": [
        "<a href=\"https://colab.research.google.com/github/Ishita-01/Cognitive-Lab/blob/main/CC_Ass4.ipynb\" target=\"_parent\"><img src=\"https://colab.research.google.com/assets/colab-badge.svg\" alt=\"Open In Colab\"/></a>"
      ]
    },
    {
      "cell_type": "markdown",
      "source": [
        "Ques 1\n"
      ],
      "metadata": {
        "id": "KedVaS0cJxxr"
      }
    },
    {
      "cell_type": "code",
      "execution_count": 6,
      "metadata": {
        "colab": {
          "base_uri": "https://localhost:8080/"
        },
        "id": "EJSwMr0j2P2Y",
        "outputId": "489ccde1-aee6-4087-b0a5-d63c151ca795"
      },
      "outputs": [
        {
          "output_type": "stream",
          "name": "stdout",
          "text": [
            "Addition:  [ 4  6  8 10 12]\n",
            "Multiplication:  [ 6 12 18 24 30]\n",
            "Division:  [1. 2. 3. 4. 5.]\n"
          ]
        }
      ],
      "source": [
        "import numpy as np\n",
        "arr= np.array([2,4,6,8,10])\n",
        "print(\"Addition: \",arr+2)\n",
        "print(\"Multiplication: \",arr*3)\n",
        "print(\"Division: \",arr/2)"
      ]
    },
    {
      "cell_type": "markdown",
      "source": [
        "Ques 2\n"
      ],
      "metadata": {
        "id": "IMO9LLNiJ7Rd"
      }
    },
    {
      "cell_type": "code",
      "source": [
        "import numpy as np\n",
        "arr=np.array([1,2,3,6,4,5])\n",
        "print(f\"Original array: {arr}\")\n",
        "#reverse\n",
        "print(f\"Reversed array: {arr[::-1]}\")\n",
        "\n",
        "#most frequent\n",
        "\n",
        "def most_frequent_with_indices(arr):\n",
        "    counts = np.bincount(arr)\n",
        "    max_count = np.max(counts)\n",
        "    most_frequent_values = np.where(counts == max_count)[0]\n",
        "    indices_dict = {value: np.where(arr == value)[0] for value in most_frequent_values}\n",
        "    return most_frequent_values, indices_dict\n",
        "\n",
        "x=np.array([1,2,3,4,5,1,2,1,1,1])\n",
        "y=np.array([1,1,1,2,3,4,2,4,3,3])\n",
        "frequent_x,indices_x= most_frequent_with_indices(x)\n",
        "frequent_y,indices_y= most_frequent_with_indices(y)\n",
        "print(f\"Most frequent in x: {frequent_x} at indice(s) {indices_x}\")\n",
        "print(f\"Most frequent in y: {frequent_y} at indice(s) {indices_y}\")"
      ],
      "metadata": {
        "colab": {
          "base_uri": "https://localhost:8080/"
        },
        "id": "lNbPnD16J9KC",
        "outputId": "dcc54f30-c8db-4bbb-dda3-717ff5d49bdf"
      },
      "execution_count": 15,
      "outputs": [
        {
          "output_type": "stream",
          "name": "stdout",
          "text": [
            "Original array: [1 2 3 6 4 5]\n",
            "Reversed array: [5 4 6 3 2 1]\n",
            "Most frequent in x: [1] at indice(s) {1: array([0, 5, 7, 8, 9])}\n",
            "Most frequent in y: [1 3] at indice(s) {1: array([0, 1, 2]), 3: array([4, 8, 9])}\n"
          ]
        }
      ]
    },
    {
      "cell_type": "markdown",
      "source": [
        "Ques 3"
      ],
      "metadata": {
        "id": "B0heDFRCj4kl"
      }
    },
    {
      "cell_type": "code",
      "source": [
        "import numpy as np\n",
        "arr=np.array([[10,20,30],[40,50,60],[70,80,90]])\n",
        "print(arr[0][1])\n",
        "print(arr[2][0])"
      ],
      "metadata": {
        "colab": {
          "base_uri": "https://localhost:8080/"
        },
        "id": "d4pu6Agaa-1c",
        "outputId": "4ae5474f-1d0e-465a-e8a2-e72cf3541019"
      },
      "execution_count": 2,
      "outputs": [
        {
          "output_type": "stream",
          "name": "stdout",
          "text": [
            "20\n",
            "70\n"
          ]
        }
      ]
    },
    {
      "cell_type": "markdown",
      "source": [
        "Ques 4"
      ],
      "metadata": {
        "id": "PwrtROrOqRyl"
      }
    },
    {
      "cell_type": "code",
      "source": [
        "import numpy as np\n",
        "Your_Name=np.linspace(10,100,25)\n",
        "print(Your_Name)\n",
        "print(\"The dimensions of array: \",Your_Name.ndim)\n",
        "print(\"Shape: \",Your_Name.shape)\n",
        "print(\"Total elements: \",Your_Name.size)\n",
        "print(\"Data type of each element: \",Your_Name.dtype)\n",
        "print(\"Total number of bytes: \",Your_Name.nbytes)\n",
        "\n",
        "Transpose_re=Your_Name.reshape(25,1)\n",
        "print(\"Using reshape, Transpose: \")\n",
        "print(Transpose_re)\n",
        "\n",
        "Transpose_T=Your_Name.T\n",
        "print(\"Using T attribute, Transpose: \")\n",
        "print(Transpose_T)\n",
        "\n",
        "print(\"Conclusion: No we Can't use T attribute.\")"
      ],
      "metadata": {
        "colab": {
          "base_uri": "https://localhost:8080/"
        },
        "id": "Pe_tV6R9j7yV",
        "outputId": "9128119b-70dc-4e46-a98d-6a6b71cd6ccd"
      },
      "execution_count": 8,
      "outputs": [
        {
          "output_type": "stream",
          "name": "stdout",
          "text": [
            "[ 10.    13.75  17.5   21.25  25.    28.75  32.5   36.25  40.    43.75\n",
            "  47.5   51.25  55.    58.75  62.5   66.25  70.    73.75  77.5   81.25\n",
            "  85.    88.75  92.5   96.25 100.  ]\n",
            "The dimensions of array:  1\n",
            "Shape:  (25,)\n",
            "Total elements:  25\n",
            "Data type of each element:  float64\n",
            "Total number of bytes:  200\n",
            "Using reshape, Transpose: \n",
            "[[ 10.  ]\n",
            " [ 13.75]\n",
            " [ 17.5 ]\n",
            " [ 21.25]\n",
            " [ 25.  ]\n",
            " [ 28.75]\n",
            " [ 32.5 ]\n",
            " [ 36.25]\n",
            " [ 40.  ]\n",
            " [ 43.75]\n",
            " [ 47.5 ]\n",
            " [ 51.25]\n",
            " [ 55.  ]\n",
            " [ 58.75]\n",
            " [ 62.5 ]\n",
            " [ 66.25]\n",
            " [ 70.  ]\n",
            " [ 73.75]\n",
            " [ 77.5 ]\n",
            " [ 81.25]\n",
            " [ 85.  ]\n",
            " [ 88.75]\n",
            " [ 92.5 ]\n",
            " [ 96.25]\n",
            " [100.  ]]\n",
            "Using T attribute, Transpose: \n",
            "[ 10.    13.75  17.5   21.25  25.    28.75  32.5   36.25  40.    43.75\n",
            "  47.5   51.25  55.    58.75  62.5   66.25  70.    73.75  77.5   81.25\n",
            "  85.    88.75  92.5   96.25 100.  ]\n",
            "Conclusion: No we Can't use T attribute.\n"
          ]
        }
      ]
    },
    {
      "cell_type": "markdown",
      "source": [
        "Ques 5"
      ],
      "metadata": {
        "id": "Fsj3uZWInJxr"
      }
    },
    {
      "cell_type": "code",
      "source": [
        "import numpy as np\n",
        "ucs420= np.array([[10,20,30,40],\n",
        "                  [50,60,70,80],\n",
        "                  [90,15,20,35]])\n",
        "print(f\"Orginal:\\n{ucs420}\")\n",
        "print(\"mean: \",np.mean(ucs420))\n",
        "print(\"median: \",np.median(ucs420))\n",
        "print(\"max: \",np.max(ucs420))\n",
        "print(\"min: \",np.min(ucs420))\n",
        "print(\"unique elements: \",np.unique(ucs420))\n",
        "reshaped_ucs420= ucs420.reshape(4,3)\n",
        "print(f\"Reshaped:\\n{reshaped_ucs420}\")\n",
        "resized_ucs420 = np.resize(ucs420,(2,3))\n",
        "print(f\"Resized:\\n{resized_ucs420}\")"
      ],
      "metadata": {
        "colab": {
          "base_uri": "https://localhost:8080/"
        },
        "id": "l3x-lGjBnIpD",
        "outputId": "4a3d5804-f01e-4b28-923f-752f9f357c9f"
      },
      "execution_count": 12,
      "outputs": [
        {
          "output_type": "stream",
          "name": "stdout",
          "text": [
            "Orginal:\n",
            "[[10 20 30 40]\n",
            " [50 60 70 80]\n",
            " [90 15 20 35]]\n",
            "mean:  43.333333333333336\n",
            "median:  37.5\n",
            "max:  90\n",
            "min:  10\n",
            "unique elements:  [10 15 20 30 35 40 50 60 70 80 90]\n",
            "Reshaped:\n",
            "[[10 20 30]\n",
            " [40 50 60]\n",
            " [70 80 90]\n",
            " [15 20 35]]\n",
            "Resized:\n",
            "[[10 20 30]\n",
            " [40 50 60]]\n"
          ]
        }
      ]
    }
  ]
}